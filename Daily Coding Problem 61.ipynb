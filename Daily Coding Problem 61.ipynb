{
 "cells": [
  {
   "cell_type": "markdown",
   "id": "2d11e2f7",
   "metadata": {},
   "source": [
    "# Daily Coding Problem 61"
   ]
  },
  {
   "cell_type": "raw",
   "id": "7aa14754",
   "metadata": {},
   "source": [
    "This problem was asked by Google.\n",
    "\n",
    "Implement integer exponentiation. That is, implement the pow(x, y) function, where x and y are integers and returns x^y.\n",
    "\n",
    "Do this faster than the naive method of repeated multiplication.\n",
    "\n",
    "For example, pow(2, 10) should return 1024."
   ]
  },
  {
   "cell_type": "markdown",
   "id": "ae0f2f3f",
   "metadata": {},
   "source": [
    "# Solution\n",
    "\n",
    "Implementing exponention naively is quite straightforward. We can either do it iteratively:"
   ]
  },
  {
   "cell_type": "code",
   "execution_count": 3,
   "id": "c97fa735",
   "metadata": {},
   "outputs": [],
   "source": [
    "def power(x, y):\n",
    "    if y < 0:\n",
    "        base = 1 / x\n",
    "        exponent = -y\n",
    "    else:\n",
    "        base = x\n",
    "        exponent = y\n",
    "    result = 1\n",
    "    for _ in range(exponent):\n",
    "        result *= base\n",
    "    return result\n",
    "\n"
   ]
  },
  {
   "cell_type": "code",
   "execution_count": 4,
   "id": "719e0c2f",
   "metadata": {},
   "outputs": [],
   "source": [
    "#or recursively:\n",
    "\n",
    "def power(x, y):\n",
    "    if y < 0:\n",
    "        return power(1 / x, -y)\n",
    "    elif y == 0:\n",
    "        return 1\n",
    "    else:\n",
    "        return x * power(x, y - 1)"
   ]
  },
  {
   "cell_type": "markdown",
   "id": "6f397a45",
   "metadata": {},
   "source": [
    "Just remember to deal with negative exponents!\n",
    "\n",
    "However, we need to do faster than just naive multiplication. How can we do this?\n",
    "\n",
    "Notice that the main bottleneck in performance here is doing multiplications y times. Since the process of multiplication takes about the same amount of time regardless of the actual sizes of the numbers, we should look at trying to move some of the work from the exponent to the base.\n",
    "\n",
    "We can rewrite x^y as the following.\n",
    "\n",
    " - If y is even, then x^y = (x^2) ^ (y/2)\n",
    " - If y is odd, then x^y = x * ((x^2) ^ ((y - 1) / 2))\n",
    "Now, by squaring the base, we have half as many multiplications to do! Let's go through an example. Say we want to compute 2^20. We can then do it like this:\n",
    "\n",
    " - 2^20 = 4^10 = 16^5 = 16 * (256)^2 = 16 * 256 * 256\n",
    "We've reduced the number of multiplications we need to do from 20 to 4. Let's code it up.\n",
    "\n",
    "Again, we can do this iteratively:\n",
    "\n"
   ]
  },
  {
   "cell_type": "code",
   "execution_count": 5,
   "id": "c688c5d1",
   "metadata": {},
   "outputs": [
    {
     "name": "stdout",
     "output_type": "stream",
     "text": [
      "1024\n"
     ]
    }
   ],
   "source": [
    "def power(x, y):\n",
    "    base = x\n",
    "    exponent = y\n",
    "    if y < 0:\n",
    "        base = 1 / x\n",
    "        exponent = -y\n",
    "    coeff = 1\n",
    "    while y > 1:\n",
    "        if y % 2 == 0:\n",
    "            base *= base\n",
    "            y = y // 2\n",
    "        else:\n",
    "            coeff *= base\n",
    "            base *= base\n",
    "            y = (y - 1) // 2\n",
    "    return coeff * base\n",
    "print(power(2,10))"
   ]
  },
  {
   "cell_type": "markdown",
   "id": "bed355ac",
   "metadata": {},
   "source": [
    "Or recursively, although it takes up more space on the call stack:"
   ]
  },
  {
   "cell_type": "code",
   "execution_count": 8,
   "id": "d7179322",
   "metadata": {},
   "outputs": [
    {
     "name": "stdout",
     "output_type": "stream",
     "text": [
      "1024\n"
     ]
    }
   ],
   "source": [
    "def power(x, y):\n",
    "    if y < 0:\n",
    "        return power(1 / x, -y)\n",
    "    elif y == 0:\n",
    "        return 1\n",
    "    elif y == 1:\n",
    "        return x\n",
    "    elif y % 2 == 0:\n",
    "        return power(x * x, y // 2)\n",
    "    else: # y is odd\n",
    "        return x * power(x * x, y // 2)\n",
    "    \n",
    "print(power(2,10))"
   ]
  },
  {
   "cell_type": "markdown",
   "id": "5884112a",
   "metadata": {},
   "source": [
    "Since we're nearly halving the number of multiplications we need to do at each step, this will run in O(log y) time."
   ]
  },
  {
   "cell_type": "code",
   "execution_count": null,
   "id": "0eda7ccd",
   "metadata": {},
   "outputs": [],
   "source": []
  }
 ],
 "metadata": {
  "kernelspec": {
   "display_name": "Python 3 (ipykernel)",
   "language": "python",
   "name": "python3"
  },
  "language_info": {
   "codemirror_mode": {
    "name": "ipython",
    "version": 3
   },
   "file_extension": ".py",
   "mimetype": "text/x-python",
   "name": "python",
   "nbconvert_exporter": "python",
   "pygments_lexer": "ipython3",
   "version": "3.8.10"
  }
 },
 "nbformat": 4,
 "nbformat_minor": 5
}
